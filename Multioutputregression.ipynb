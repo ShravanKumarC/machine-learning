{
  "nbformat": 4,
  "nbformat_minor": 0,
  "metadata": {
    "colab": {
      "private_outputs": true,
      "provenance": []
    },
    "kernelspec": {
      "name": "python3",
      "display_name": "Python 3"
    },
    "language_info": {
      "name": "python"
    }
  },
  "cells": [
    {
      "cell_type": "code",
      "execution_count": null,
      "metadata": {
        "id": "xsGFUxRKhx6t"
      },
      "outputs": [],
      "source": [
        "from sklearn.datasets  import make_regression\n",
        "from sklearn.linear_model import LinearRegression\n",
        "X,y  = make_regression(n_samples=1000,n_features=10,n_informative=5,n_targets=2,random_state=1,noise=0.5 )"
      ]
    },
    {
      "cell_type": "code",
      "source": [
        "print('input variable ---------------->')\n",
        "print(X[:5])"
      ],
      "metadata": {
        "id": "1wb5axVGir8O"
      },
      "execution_count": null,
      "outputs": []
    },
    {
      "cell_type": "code",
      "source": [
        "print('output variable ---------------->')\n",
        "print(y[:5])"
      ],
      "metadata": {
        "id": "xCKBqOvBjIhd"
      },
      "execution_count": null,
      "outputs": []
    },
    {
      "cell_type": "code",
      "source": [
        "model = LinearRegression()\n",
        "model.fit(X,y)"
      ],
      "metadata": {
        "id": "4AuGTSqMjNGV"
      },
      "execution_count": null,
      "outputs": []
    },
    {
      "cell_type": "code",
      "source": [
        "model.intercept_\n"
      ],
      "metadata": {
        "id": "xNQeiIsRjUqJ"
      },
      "execution_count": null,
      "outputs": []
    },
    {
      "cell_type": "code",
      "source": [
        "model.coef_\n"
      ],
      "metadata": {
        "id": "dRrYYVkvjaQh"
      },
      "execution_count": null,
      "outputs": []
    },
    {
      "cell_type": "code",
      "source": [
        "row =  [0.21947749 , 0.32948997,  0.81560036,  0.440956,   -0.0606303,  -0.29257894,\n",
        "  -0.2820059 , -0.00290545 , 0.96402263 , 0.04992249]"
      ],
      "metadata": {
        "id": "L5etWcUzjonH"
      },
      "execution_count": null,
      "outputs": []
    },
    {
      "cell_type": "code",
      "source": [
        "y_pred = model.predict([row])"
      ],
      "metadata": {
        "id": "PE02dMTLj3Qq"
      },
      "execution_count": null,
      "outputs": []
    },
    {
      "cell_type": "code",
      "source": [
        "print('final output------>',y_pred)"
      ],
      "metadata": {
        "id": "i6W7fOITkHpV"
      },
      "execution_count": null,
      "outputs": []
    },
    {
      "cell_type": "code",
      "source": [
        "from sklearn.neighbors import KNeighborsRegressor"
      ],
      "metadata": {
        "id": "gEHidUsNmMjz"
      },
      "execution_count": null,
      "outputs": []
    },
    {
      "cell_type": "code",
      "source": [
        "model = KNeighborsRegressor()\n",
        "model.fit(X,y)"
      ],
      "metadata": {
        "id": "U3tKr7ntmEVc"
      },
      "execution_count": null,
      "outputs": []
    },
    {
      "cell_type": "code",
      "source": [
        "row =  [0.21947749 , 0.32948997,  0.81560036,  0.440956,   -0.0606303,  -0.29257894,\n",
        "  -0.2820059 , -0.00290545 , 0.96402263 , 0.04992249]\n",
        "y_pred = model.predict([row])\n",
        "print('final output for KNN ------>',y_pred)"
      ],
      "metadata": {
        "id": "Vtq9u9zmmXRh"
      },
      "execution_count": null,
      "outputs": []
    },
    {
      "cell_type": "code",
      "source": [
        "from sklearn.tree import DecisionTreeRegressor\n",
        "model = DecisionTreeRegressor()\n",
        "model.fit(X,y)\n",
        "\n",
        "row =  [0.21947749 , 0.32948997,  0.81560036,  0.440956,   -0.0606303,  -0.29257894,\n",
        "  -0.2820059 , -0.00290545 , 0.96402263 , 0.04992249]\n",
        "y_pred = model.predict([row])\n",
        "print('final output for Decisison tree ------>',y_pred)"
      ],
      "metadata": {
        "id": "-BDPguogmhz_"
      },
      "execution_count": null,
      "outputs": []
    },
    {
      "cell_type": "code",
      "source": [
        "from sklearn.ensemble import RandomForestRegressor\n",
        "model = RandomForestRegressor()\n",
        "model.fit(X,y)\n",
        "\n",
        "row =  [0.21947749 , 0.32948997,  0.81560036,  0.440956,   -0.0606303,  -0.29257894,\n",
        "  -0.2820059 , -0.00290545 , 0.96402263 , 0.04992249]\n",
        "y_pred = model.predict([row])\n",
        "print('final output for Random Forest ------>',y_pred)"
      ],
      "metadata": {
        "id": "zLVBv6Nbmx4w"
      },
      "execution_count": null,
      "outputs": []
    }
  ]
}